{
 "cells": [
  {
   "cell_type": "code",
   "execution_count": 1,
   "metadata": {},
   "outputs": [],
   "source": [
    "# Author: Yichun Zhao\n",
    "\n",
    "import tensorflow as tf\n",
    "from tensorflow import keras\n",
    "import numpy as np\n",
    "import matplotlib.pyplot as plt\n",
    "import os\n",
    "import imutils\n",
    "import cv2\n",
    "\n",
    "import tkinter as tk\n",
    "import tkinter.filedialog as fd"
   ]
  },
  {
   "cell_type": "code",
   "execution_count": 2,
   "metadata": {},
   "outputs": [
    {
     "name": "stdout",
     "output_type": "stream",
     "text": [
      "\n",
      "[INFO] LOARDING TRAINED MODEL......\n",
      "\n",
      "\n",
      "[INFO] MODEL LOADED! Please select an x-ray image.\n",
      "\n"
     ]
    }
   ],
   "source": [
    "#This code snippet loads a trained Keras model from disk and assigns it to the model_loaded variable \n",
    "# load keras model\n",
    "print(\"\\n[INFO] LOARDING TRAINED MODEL......\\n\")\n",
    "model_loaded = keras.models.load_model(os.path.abspath('')+\"/model\")\n",
    "print(\"\\n[INFO] MODEL LOADED! Please select an x-ray image.\\n\")"
   ]
  },
  {
   "cell_type": "code",
   "execution_count": 3,
   "metadata": {},
   "outputs": [
    {
     "name": "stdout",
     "output_type": "stream",
     "text": [
      "1/1 [==============================] - 1s 870ms/step\n",
      "\n",
      "PROBABILITY:   0.016137572\n",
      "\n",
      "RESULT:  COVID19 not detected.\n",
      "\n"
     ]
    }
   ],
   "source": [
    "#####print(\"\\n I reach here \\n\") # For deugging puposes \n",
    "\n",
    "root = tk.Tk() # This line creates an instance of Tk class, which represents the main window of a Tkinter application\n",
    "# I am not sure whats the use of this line, but I will leave it here \n",
    "root.withdraw() #This line hides the main window created by Tk() so that it does not appear on the screen.\n",
    "# The next line opens a file dialog box. \n",
    "    # It allows the user to select a file and returns the path of the selected file, \n",
    "    # which is then assigned to the file_path variable\n",
    "file_path = fd.askopenfilename()\n",
    "\n",
    "#####print(\"\\n I reach here 2  \\n\")  # For deugging puposes \n",
    "\n",
    "#image = cv2.imread(os.path.abspath('')+\"/dataset/evaluate/yes/000001-10.jpg\", cv2.IMREAD_GRAYSCALE)\n",
    "image = cv2.imread(file_path, cv2.IMREAD_GRAYSCALE)\n",
    "image = cv2.resize(image, (224, 224))\n",
    "image = image/255\n",
    "image = image.reshape(1, image.shape[0], image.shape[1], 1)\n",
    "output = model_loaded.predict(image)\n",
    "print(\"\\nPROBABILITY:  \", output[0][0]) #accesses the probability value from the output array\n",
    "output = int(round(output[0][0]))\n",
    "if (output):\n",
    "    print(\"\\nRESULT:  COVID19 detected.\\n\")\n",
    "else:\n",
    "    print(\"\\nRESULT:  COVID19 not detected.\\n\")"
   ]
  },
  {
   "cell_type": "code",
   "execution_count": null,
   "metadata": {},
   "outputs": [],
   "source": []
  }
 ],
 "metadata": {
  "kernelspec": {
   "display_name": "Python 3 (ipykernel)",
   "language": "python",
   "name": "python3"
  },
  "language_info": {
   "codemirror_mode": {
    "name": "ipython",
    "version": 3
   },
   "file_extension": ".py",
   "mimetype": "text/x-python",
   "name": "python",
   "nbconvert_exporter": "python",
   "pygments_lexer": "ipython3",
   "version": "3.10.10"
  }
 },
 "nbformat": 4,
 "nbformat_minor": 2
}
