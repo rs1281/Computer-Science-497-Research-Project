{
 "cells": [
  {
   "cell_type": "code",
   "execution_count": 1,
   "metadata": {},
   "outputs": [],
   "source": [
    "# Author: Yichun Zhao\n",
    "\n",
    "import tensorflow as tf\n",
    "from tensorflow import keras\n",
    "import numpy as np\n",
    "import matplotlib.pyplot as plt\n",
    "import os\n",
    "import imutils\n",
    "import cv2"
   ]
  },
  {
   "cell_type": "code",
   "execution_count": 2,
   "metadata": {},
   "outputs": [],
   "source": [
    "# load keras model\n",
    "model_loaded = keras.models.load_model(os.path.abspath('')+\"/model\")"
   ]
  },
  {
   "cell_type": "code",
   "execution_count": 3,
   "metadata": {},
   "outputs": [
    {
     "name": "stdout",
     "output_type": "stream",
     "text": [
      "\n",
      "-----------------------EVALUATION-----------------------\n",
      "\n",
      "1/1 [==============================] - 0s 377ms/step\n",
      "Image # 1 : Correct output:  1 ; Predicted output:  1 ; Predicted probability:  0.9879504\n",
      "Image # 2 : Correct output:  1 ; Predicted output:  1 ; Predicted probability:  0.75115335\n",
      "Image # 3 : Correct output:  1 ; Predicted output:  1 ; Predicted probability:  0.99779326\n",
      "Image # 4 : Correct output:  1 ; Predicted output:  1 ; Predicted probability:  0.99102193\n",
      "Image # 5 : Correct output:  1 ; Predicted output:  1 ; Predicted probability:  0.85862213\n",
      "Image # 6 : Correct output:  0 ; Predicted output:  0 ; Predicted probability:  0.34096572\n",
      "Image # 7 : Correct output:  0 ; Predicted output:  1 ; Predicted probability:  0.6509986\n",
      "Image # 8 : Correct output:  0 ; Predicted output:  0 ; Predicted probability:  0.48797733\n",
      "Image # 9 : Correct output:  0 ; Predicted output:  1 ; Predicted probability:  0.5241367\n",
      "Image # 10 : Correct output:  0 ; Predicted output:  0 ; Predicted probability:  0.4535328\n",
      "\n",
      "Accuracy from evaluation using trained model:  80.0\n",
      "Precision from evaluation using trained model:  71.42857142857143\n",
      "Recall from evaluation using trained model:  100.0 \n",
      "\n",
      "\n"
     ]
    }
   ],
   "source": [
    "# evaluation\n",
    "print(\"\\n-----------------------EVALUATION-----------------------\\n\")\n",
    "\n",
    "images_eva = []\n",
    "labels_eva = []\n",
    "\n",
    "yes_path = os.path.abspath('')+\"/dataset/evaluate/yes/\"\n",
    "for file in os.listdir(yes_path):\n",
    "    image = cv2.imread(yes_path+file, cv2.IMREAD_GRAYSCALE)\n",
    "    # resize images to same size\n",
    "    image = cv2.resize(image, (224, 224))\n",
    "    images_eva.append(image)\n",
    "    labels_eva.append(True)\n",
    "    \n",
    "no_path = os.path.abspath('')+\"/dataset/evaluate/no/\"\n",
    "for file in os.listdir(no_path):\n",
    "    image = cv2.imread(no_path+file, cv2.IMREAD_GRAYSCALE)\n",
    "    # resize images to same size\n",
    "    image = cv2.resize(image, (224, 224))\n",
    "    images_eva.append(image)\n",
    "    labels_eva.append(False)\n",
    "    \n",
    "# normalize and reshape into appropriate dimensions\n",
    "images_eva = np.array(images_eva)/255\n",
    "images_eva = images_eva.reshape(images_eva.shape[0], images_eva.shape[1], images_eva.shape[2], 1) #TF needs 4D shaped data\n",
    "labels_eva = np.array(labels_eva) * 1\n",
    "labels_eva = labels_eva.reshape(labels_eva.shape[0], -1) #2D output data\n",
    "\n",
    "predicted_correct = 0\n",
    "true_positive = 0\n",
    "true_negative = 0\n",
    "false_positive = 0\n",
    "false_negative = 0\n",
    "\n",
    "pred = model_loaded.predict(images_eva)\n",
    "for i in range(len(images_eva)):\n",
    "    if (labels_eva[i][0] == 0):\n",
    "        true_negative = true_negative+1\n",
    "    else:\n",
    "        true_positive = true_positive+1\n",
    "    print(\"Image #\",i+1,\": Correct output: \", labels_eva[i][0], \"; Predicted output: \", int(round(pred[i][0])), \"; Predicted probability: \", pred[i][0])\n",
    "    if (labels_eva[i][0]==round(pred[i][0])):\n",
    "        predicted_correct = predicted_correct + 1\n",
    "    else:\n",
    "        if (int(round(pred[i][0]))==0):\n",
    "            false_negative = false_negative+1\n",
    "        else:\n",
    "            false_positive = false_positive+1\n",
    "\n",
    "print(\"\\nAccuracy from evaluation using trained model: \", predicted_correct/len(images_eva)*100)\n",
    "# Precision = TruePositives / (TruePositives + FalsePositives)\n",
    "print(\"Precision from evaluation using trained model: \", true_positive/(true_positive+false_positive)*100)\n",
    "# Recall = TruePositives / (TruePositives + FalseNegatives)\n",
    "print(\"Recall from evaluation using trained model: \", true_positive/(true_positive+false_negative)*100, \"\\n\\n\")"
   ]
  },
  {
   "cell_type": "code",
   "execution_count": 4,
   "metadata": {},
   "outputs": [
    {
     "name": "stdout",
     "output_type": "stream",
     "text": [
      "\n",
      "-----------------------VISUALIZATION-----------------------\n",
      "\n"
     ]
    },
    {
     "ename": "ModuleNotFoundError",
     "evalue": "No module named 'keract'",
     "output_type": "error",
     "traceback": [
      "\u001b[1;31m---------------------------------------------------------------------------\u001b[0m",
      "\u001b[1;31mModuleNotFoundError\u001b[0m                       Traceback (most recent call last)",
      "Cell \u001b[1;32mIn[4], line 3\u001b[0m\n\u001b[0;32m      1\u001b[0m \u001b[38;5;66;03m# visualization of feature maps - what features do the machine see?\u001b[39;00m\n\u001b[0;32m      2\u001b[0m \u001b[38;5;28mprint\u001b[39m(\u001b[38;5;124m\"\u001b[39m\u001b[38;5;130;01m\\n\u001b[39;00m\u001b[38;5;124m-----------------------VISUALIZATION-----------------------\u001b[39m\u001b[38;5;130;01m\\n\u001b[39;00m\u001b[38;5;124m\"\u001b[39m)\n\u001b[1;32m----> 3\u001b[0m \u001b[38;5;28;01mfrom\u001b[39;00m \u001b[38;5;21;01mkeract\u001b[39;00m \u001b[38;5;28;01mimport\u001b[39;00m get_activations, display_activations, display_heatmaps\n\u001b[0;32m      4\u001b[0m image_num \u001b[38;5;241m=\u001b[39m \u001b[38;5;241m2\u001b[39m\n\u001b[0;32m      5\u001b[0m keract_inputs \u001b[38;5;241m=\u001b[39m images_eva[image_num\u001b[38;5;241m-\u001b[39m\u001b[38;5;241m1\u001b[39m:image_num]\n",
      "\u001b[1;31mModuleNotFoundError\u001b[0m: No module named 'keract'"
     ]
    }
   ],
   "source": [
    "# visualization of feature maps - what features do the machine see?\n",
    "print(\"\\n-----------------------VISUALIZATION-----------------------\\n\")\n",
    "from keract import get_activations, display_activations, display_heatmaps\n",
    "image_num = 2\n",
    "keract_inputs = images_eva[image_num-1:image_num]\n",
    "keract_targets = labels_eva[image_num-1:image_num]\n",
    "print(\"Correct output for image #\", image_num, \": \", keract_targets, \"\\n\")\n",
    "activations = get_activations(model_loaded, keract_inputs)\n",
    "display_activations(activations, cmap=\"gray\", save=False)\n",
    "display_heatmaps(activations, keract_inputs, save=False)"
   ]
  },
  {
   "cell_type": "code",
   "execution_count": null,
   "metadata": {},
   "outputs": [],
   "source": []
  }
 ],
 "metadata": {
  "kernelspec": {
   "display_name": "Python 3 (ipykernel)",
   "language": "python",
   "name": "python3"
  },
  "language_info": {
   "codemirror_mode": {
    "name": "ipython",
    "version": 3
   },
   "file_extension": ".py",
   "mimetype": "text/x-python",
   "name": "python",
   "nbconvert_exporter": "python",
   "pygments_lexer": "ipython3",
   "version": "3.10.10"
  }
 },
 "nbformat": 4,
 "nbformat_minor": 2
}
